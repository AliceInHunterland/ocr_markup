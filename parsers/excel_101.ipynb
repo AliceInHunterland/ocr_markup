{
  "nbformat": 4,
  "nbformat_minor": 0,
  "metadata": {
    "colab": {
      "name": "excel 101",
      "provenance": [],
      "authorship_tag": "ABX9TyNIJtWxDp+QtJu6vIXdPrg9",
      "include_colab_link": true
    },
    "kernelspec": {
      "name": "python3",
      "display_name": "Python 3"
    },
    "language_info": {
      "name": "python"
    }
  },
  "cells": [
    {
      "cell_type": "markdown",
      "metadata": {
        "id": "view-in-github",
        "colab_type": "text"
      },
      "source": [
        "<a href=\"https://colab.research.google.com/github/OlegJakushkin/ocr_markup/blob/main/parsers/excel_101.ipynb\" target=\"_parent\"><img src=\"https://colab.research.google.com/assets/colab-badge.svg\" alt=\"Open In Colab\"/></a>"
      ]
    },
    {
      "cell_type": "code",
      "metadata": {
        "colab": {
          "base_uri": "https://localhost:8080/"
        },
        "id": "Q8vgkVeJgxQo",
        "outputId": "9ca509d8-c0ea-47be-8b9b-102ff2d07194"
      },
      "source": [
        "pip install openpyxl"
      ],
      "execution_count": 1,
      "outputs": [
        {
          "output_type": "stream",
          "name": "stdout",
          "text": [
            "Requirement already satisfied: openpyxl in /usr/local/lib/python3.7/dist-packages (2.5.9)\n",
            "Requirement already satisfied: et-xmlfile in /usr/local/lib/python3.7/dist-packages (from openpyxl) (1.1.0)\n",
            "Requirement already satisfied: jdcal in /usr/local/lib/python3.7/dist-packages (from openpyxl) (1.4.1)\n"
          ]
        }
      ]
    },
    {
      "cell_type": "code",
      "metadata": {
        "colab": {
          "base_uri": "https://localhost:8080/"
        },
        "id": "wW79-K6dh2cj",
        "outputId": "c03f4e13-55e1-42fb-ca1f-ce1227b830c0"
      },
      "source": [
        "from google.colab import drive\n",
        "drive.mount('/content/drive')ё"
      ],
      "execution_count": 2,
      "outputs": [
        {
          "output_type": "stream",
          "name": "stdout",
          "text": [
            "Mounted at /content/drive\n"
          ]
        }
      ]
    },
    {
      "cell_type": "code",
      "metadata": {
        "colab": {
          "base_uri": "https://localhost:8080/"
        },
        "id": "wVZNoyhNhxdb",
        "outputId": "afcd1c50-625c-478f-ac8c-c6219f866f6d"
      },
      "source": [
        "import openpyxl\n",
        "from openpyxl import Workbook\n",
        "from openpyxl.utils import get_column_letter, column_index_from_string\n",
        "\n",
        "path = '/content/drive/MyDrive/DeepDive-43/Видео_т_5.xlsx'\n",
        "wb = Workbook()\n",
        "wb_obj = openpyxl.load_workbook(path)\n",
        "sheet_obj = wb_obj.active\n",
        "max_col = sheet_obj.max_column\n",
        "max_row = sheet_obj.max_row\n",
        "\n",
        "class excel_iterator:\n",
        "  def next(self):\n",
        "    new_cell = self.neighbour(self.direction, 1)\n",
        "      \n",
        "    result  = excel_iterator(self.sheet, self.direction, new_cell)\n",
        "    return result\n",
        "\n",
        "\n",
        "  def __init__(self, sheet, direction=\"left|right|up|down\", start_cell=\"cell_obj\"):\n",
        "    self.sheet = sheet\n",
        "    self.x = start_cell.row\n",
        "    self.y = column_index_from_string(start_cell.column)\n",
        "    self.y_letter = start_cell.column\n",
        "    self.direction = direction\n",
        "    self.cell_obj = start_cell\n",
        "    pass\n",
        "\n",
        "  def get(self):\n",
        "    return self.cell_obj.value\n",
        "\n",
        "  def neighbour(self, direction, distance=666):\n",
        "    new_cell = \"\"\n",
        "  \n",
        "    if \"left\" in direction:\n",
        "      new_cell  = self.sheet.cell(row = self.x, column = self.y-distance)\n",
        "    if \"right\" in direction:\n",
        "      new_cell  = self.sheet.cell(row = self.x, column = self.y+distance)\n",
        "    if \"up\" in direction:\n",
        "      new_cell  = self.sheet.cell(row = self.x-distance, column = self.y)\n",
        "    if \"down\" in direction:\n",
        "      new_cell  = self.sheet.cell(row = self.x+distance, column = self.y)\n",
        "    return new_cell\n",
        "\n",
        "for j in range(1, max_row + 1):\n",
        "  for i in range(1, max_col + 1):\n",
        "    cell_obj = sheet_obj.cell(row = j, column = i)\n",
        "    print(cell_obj.value, end = \"\\t\")\n",
        "  print(\"\")\n",
        "\n",
        "print(\"-------\")\n",
        "\n",
        "e = excel_iterator(sheet_obj, \"down\", start_cell=sheet_obj.cell(row =4, column = 1))\n",
        "print(e.get())\n",
        "print(\"!!!\")\n",
        "print(e.neighbour(\"right\", 1).value)"
      ],
      "execution_count": 32,
      "outputs": [
        {
          "output_type": "stream",
          "name": "stdout",
          "text": [
            "Широта:\tДолгота:\tДата:\tСудно:\tТип аппарата:\t№ станции:\tОператор:\tРасшифровывали:\tВидеофайл:\tКачество/скорость съемки\tNone\tNone\tNone\tNone\tNone\tNone\tNone\tNone\tNone\tNone\tNone\tNone\tNone\tNone\tNone\tNone\tNone\tNone\t\n",
            "66.534152\t33.15222\t2021-07-22 00:00:00\tЗодиак\tGladius-mini\t5.0\tМакаров А.В.\tМакаров А.В.\tGLDS0722_122736053.mp4\t4К/30 к/с\tNone\tNone\tNone\tNone\tNone\tNone\tNone\tNone\tNone\tNone\tNone\tNone\tNone\tNone\tNone\tNone\tNone\tNone\t\n",
            "None\tNone\t12:27:00\tNone\tNone\tNone\tNone\tNone\tNone\tNone\tNone\tNone\tNone\tNone\tNone\tNone\tNone\tNone\tNone\tNone\tNone\tNone\tNone\tNone\tNone\tNone\tNone\tNone\t\n",
            "t начала\tt фрагмента\tКомпасный курс\tГлубина м\tШирина кадра\tСубстрат\tПримечания\tMysis oculata\tOphiura robusta\tGymnocanthus tricuspis (рыбка арктический бычок-шлемоносец)\tPagurus pubescens (hfr-jnitkmybr)\tPorifera sp.\tSaccoglossus\tAscidia\tNone\tNone\tNone\tNone\tNone\tNone\tNone\tNone\tNone\tNone\tNone\tNone\tNone\tNone\t\n",
            "00:25:00\t10.0\tнет данных\t18.0\tNone\tил\tОтверстия в грунте - моллюски или полихеты\t7.0\tNone\t1.0\tNone\t1.0\tNone\tNone\tNone\tNone\tNone\tNone\tNone\tNone\tNone\tNone\tNone\tNone\tNone\tNone\tNone\tNone\t\n",
            "00:35:00\t10.0\tнет данных\t18.0\tNone\tил\tNone\t7.0\tNone\tNone\tNone\tNone\tNone\tNone\tNone\tNone\tNone\tNone\tNone\tNone\tNone\tNone\tNone\tNone\tNone\tNone\tNone\tNone\t\n",
            "00:48:00\t10.0\tнет данных\t18.0\tNone\tил\tNone\tNone\tNone\t1.0\tNone\tNone\t1.0\tNone\tNone\tNone\tNone\tNone\tNone\tNone\tNone\tNone\tNone\tNone\tNone\tNone\tNone\tNone\t\n",
            "01:12:00\t10.0\tнет данных\t18.0\tNone\tил\tNone\tNone\tNone\tNone\tNone\tNone\tNone\tNone\tNone\tNone\tNone\tNone\tNone\tNone\tNone\tNone\tNone\tNone\tNone\tNone\tNone\tNone\t\n",
            "01:22:00\t10.0\tнет данных\t18.0\tNone\tил\tNone\t6.0\tNone\tNone\tNone\tNone\tNone\tNone\tNone\tNone\tNone\tNone\tNone\tNone\tNone\tNone\tNone\tNone\tNone\tNone\tNone\tNone\t\n",
            "01:41:00\t10.0\tнет данных\t18.0\tNone\tил\tNone\t9.0\tNone\tNone\tNone\tNone\t3.0\t2.0\tNone\tNone\tNone\tNone\tNone\tNone\tNone\tNone\tNone\tNone\tNone\tNone\tNone\tNone\t\n",
            "None\tNone\tNone\tNone\tNone\tNone\tNone\tNone\tNone\tNone\tNone\tNone\tNone\tNone\tNone\tNone\tNone\tNone\tNone\tNone\tNone\tNone\tNone\tNone\tNone\tNone\tNone\tNone\t\n",
            "None\t=SUM(B2:B10)\tывапрть \tNone\tNone\tNone\tNone\tNone\tNone\tNone\tNone\tNone\tNone\tNone\tNone\tNone\tNone\tNone\tNone\tNone\tNone\tNone\tNone\tNone\tNone\tNone\tNone\tNone\t\n",
            "None\tNone\tNone\tNone\tNone\tNone\tNone\tNone\tNone\tNone\tNone\tNone\tNone\tNone\tNone\tNone\tNone\tNone\tNone\tNone\tNone\tNone\tNone\tNone\tNone\tNone\tNone\tNone\t\n",
            "None\tNone\tNone\tNone\tNone\tNone\tNone\tNone\tNone\tNone\tNone\tNone\tNone\tNone\tNone\tNone\tNone\tNone\tNone\tNone\tNone\tNone\tNone\tNone\tNone\tNone\tNone\tNone\t\n",
            "-------\n",
            "t начала\n",
            "!!!\n",
            "t фрагмента\n"
          ]
        }
      ]
    }
  ]
}